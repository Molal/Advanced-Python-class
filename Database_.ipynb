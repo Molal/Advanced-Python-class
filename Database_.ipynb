{
  "nbformat": 4,
  "nbformat_minor": 5,
  "metadata": {
    "kernelspec": {
      "display_name": "Python 3",
      "language": "python",
      "name": "python3"
    },
    "language_info": {
      "codemirror_mode": {
        "name": "ipython",
        "version": 3
      },
      "file_extension": ".py",
      "mimetype": "text/x-python",
      "name": "python",
      "nbconvert_exporter": "python",
      "pygments_lexer": "ipython3",
      "version": "3.9.2"
    },
    "colab": {
      "name": "Database .ipynb",
      "provenance": [],
      "include_colab_link": true
    }
  },
  "cells": [
    {
      "cell_type": "markdown",
      "metadata": {
        "id": "view-in-github",
        "colab_type": "text"
      },
      "source": [
        "<a href=\"https://colab.research.google.com/github/Molal/Advanced-Python-class/blob/main/Database_.ipynb\" target=\"_parent\"><img src=\"https://colab.research.google.com/assets/colab-badge.svg\" alt=\"Open In Colab\"/></a>"
      ]
    },
    {
      "cell_type": "code",
      "metadata": {
        "id": "consistent-eight"
      },
      "source": [
        "#pip install mysql-connector-python \n",
        "#pip install --upgrade pip"
      ],
      "id": "consistent-eight",
      "execution_count": null,
      "outputs": []
    },
    {
      "cell_type": "markdown",
      "metadata": {
        "id": "consolidated-answer"
      },
      "source": [
        "#create the database now \n",
        "1: Create a Database in MySQL and name it:  Company\n",
        "2: Create a table in the company Database and name it employee Show your work/script.\n",
        "\n",
        "In the Employee Table, put the following fields.\n",
        "\ta) employee_id\n",
        "\tb) first_name\n",
        "\tc) last_name\n",
        "\td) email\n",
        "\te) phone_number\n",
        "\tf) hire_date\n",
        "\tg) job_id\n",
        "\th) salary\n",
        "\ti) manager_id\n",
        "    j) department_id\n",
        "\t\n",
        "2: Create a table in the company Database and name it departments. Show your work/script.\t\n",
        "\n",
        "In the departments Table, put the following fields.\t\n",
        "\ta) department_id\n",
        "\tb) department_name\n",
        "\tc) location_id\n",
        "\t\n",
        "3: Create a table in the company Database and name it jobs. Show your work/script.\n",
        "\n",
        "In the jobs Table, put the following fields.\n",
        "\ta) job_id\n",
        "\tb) job_title\n",
        "\tc) min_salary\n",
        "\td) max_salary\n",
        "\t\n",
        "4: Insert into the 3 above tables some fictious records. Make up at least 10 records for the Employee Table, the department table and the jobs table. Show your work/script.\n",
        "\n",
        "5: Once created and the records inserted. Please display on the screen using Python Script the content of all the 3 tables. Show your work/script..\n",
        "\n",
        "6: Also using the MySQL statement, please join the 3 tables and display their contents using Python scripting. Show your work/script..\n",
        "\n",
        "7: Update the records table and inser these 3 employees\n",
        "\tii) employee_id: 0091, first name: Annabel Nganga, create her email using her first and last name and assign a salary, manager_id and dept_id\n",
        "\tii) employee_id: 0092, first name: Esther Wambui, create her email using her first and last name and assign a salary, manager_id and dept_id\n",
        "\tiii) employee_id: 0094, first name: Migot Ndede, create his email using his first and last name and assign a salary, manager_id and dept_id\n",
        "\t\n",
        "8: Make changes to the Employee table structure and add a cell_phone number and physical address. Please show the code you used to make changed to the table structure.\n",
        "\n",
        "9: Make changes to the first name of employee id 0094 to George. Please show the details of your code used to do that.\n",
        "\n",
        "10: Delete employee number ID 0094 from the database. Please show the code you used to do that.\n",
        "\n",
        "Your tools of choice would be to use \n",
        "\n",
        "1) MySQL workbench\n",
        "2) Python scripting Language\n",
        "\n",
        "When done, don't rush to send to GitHub, make sure that your work makes sense, and that this is an Advanced Python Class and sork like you are doing it\n",
        "for your employment. Just so you know. NO sloppy code and do not copy and paste neither. Do it like your life depends on it.\n",
        "\n",
        "In case you are stuck, don't wait until Sunday to bring it up. Engage me and let us work all together to assist you also Google is your friend. IT IS IMPORTANT."
      ],
      "id": "consolidated-answer"
    },
    {
      "cell_type": "code",
      "metadata": {
        "id": "specialized-telescope",
        "outputId": "fb8d7d24-6af0-4cf6-c2aa-3143116e9715"
      },
      "source": [
        "import mysql.connector as conn \n",
        "mydb = conn.connect(\n",
        "        host = 'localhost',\n",
        "        user = 'root',\n",
        "        password = 'Lexie@2017',\n",
        "        database = 'company')\n",
        "print('connect to mydb')\n",
        "cursor = mydb.cursor()"
      ],
      "id": "specialized-telescope",
      "execution_count": null,
      "outputs": [
        {
          "output_type": "stream",
          "text": [
            "connect to mydb\n"
          ],
          "name": "stdout"
        }
      ]
    },
    {
      "cell_type": "code",
      "metadata": {
        "id": "excellent-baghdad"
      },
      "source": [
        "cursor = mydb.cursor()"
      ],
      "id": "excellent-baghdad",
      "execution_count": null,
      "outputs": []
    },
    {
      "cell_type": "code",
      "metadata": {
        "id": "exterior-desire",
        "outputId": "2eff5e99-815e-4b07-9272-99d50d5f42e3"
      },
      "source": [
        "cursor.execute('CREATE DATABASE IF NOT EXISTS company')\n",
        "print(\"Database created\")"
      ],
      "id": "exterior-desire",
      "execution_count": null,
      "outputs": [
        {
          "output_type": "stream",
          "text": [
            "Database created\n"
          ],
          "name": "stdout"
        }
      ]
    },
    {
      "cell_type": "code",
      "metadata": {
        "id": "failing-tongue",
        "outputId": "a3f290cb-0ed0-4ad1-9856-83b728dffdcd"
      },
      "source": [
        "#creating the employees tables \n",
        "cursor.execute('''CREATE TABLE IF NOT EXISTS employee (\n",
        "Employees_id INT(5) AUTO_INCREMENT PRIMARY KEY NOT NULL UNIQUE,\n",
        "F_name VARCHAR(100) NOT NULL,\n",
        "L_name VARCHAR(100) NOT NULL,\n",
        "Email VARCHAR(100) NOT NULL,\n",
        "Phone_number INT(10) NOT NULL,\n",
        "Hire_Date VARCHAR(5) NOT NULL, \n",
        "Job_Id INT(5) NOT NULL, \n",
        "Salary INT(5) NOT NULL, \n",
        "Manager_ID INT(5) NOT NULL, \n",
        "Depertment_ID INT(5) NOT NULL)''')\n",
        "\n",
        "print(\"employees table created\")\n",
        "              \n",
        "\n"
      ],
      "id": "failing-tongue",
      "execution_count": null,
      "outputs": [
        {
          "output_type": "stream",
          "text": [
            "employees table created\n"
          ],
          "name": "stdout"
        }
      ]
    },
    {
      "cell_type": "code",
      "metadata": {
        "id": "compound-stamp"
      },
      "source": [
        "cursor.execute('''CREATE TABLE IF NOT EXISTS depertments (\n",
        " Department_id INT(5) PRIMARY KEY NOT NULL UNIQUE, \n",
        " Department_name VARCHAR(100) NOT NULL,\n",
        " Location_id VARCHAR(100) NOT NULL)''')\n"
      ],
      "id": "compound-stamp",
      "execution_count": null,
      "outputs": []
    },
    {
      "cell_type": "code",
      "metadata": {
        "id": "skilled-diagram"
      },
      "source": [
        "cursor.execute('''CREATE TABLE IF NOT EXISTS job(\n",
        " job_id INT (5) NOT NULL UNIQUE,\n",
        " job_title VARCHAR(100) NOT NULL,\n",
        " min_salary INT(5) NOT NULL, \n",
        " max_salary INT(5) NOT NULL)''')"
      ],
      "id": "skilled-diagram",
      "execution_count": null,
      "outputs": []
    },
    {
      "cell_type": "code",
      "metadata": {
        "id": "alert-triumph"
      },
      "source": [
        "mysql = 'INSERT IGNORE INTO employee ( Employees_id,F_name,L_name,Email,Phone_number,Hire_Date,Job_Id,Salary,Manager_ID,Depertment_ID) VALUES (%s,%s,%s,%s,%s,%s,%s,%s,%s,%s)' \n",
        "var = [\n",
        "    (1,'peter','onyango','onyangop@gmail.com',72378665,'2020',76798,70000,67878,76867),\n",
        "    (2, 'victor', 'brian', 'vbrian@yahoo.com',87874857, '2019',87989,870000,767679,87877),\n",
        "    (3, 'Hillary', 'oloo', 'hc@hotmail.com', 897894768, '2020',34325,600000,5464536,746476)\n",
        "   \n",
        "]\n",
        "\n",
        "cursor.executemany(mysql,var)\n",
        "mydb.commit()"
      ],
      "id": "alert-triumph",
      "execution_count": null,
      "outputs": []
    },
    {
      "cell_type": "code",
      "metadata": {
        "id": "southern-secret"
      },
      "source": [
        "mysql1= 'INSERT IGNORE INTO depertments ( Department_id,  Department_name, Location_id) VALUES (%s,%s,%s)'\n",
        "var1 = [\n",
        "    (1,'Agri-business', 9787),\n",
        "    (2, 'Mathematics', 3452),\n",
        "    (3, 'Economics', 6745)\n",
        "]\n",
        "cursor.executemany(mysql1,var1)\n",
        "mydb.commit()"
      ],
      "id": "southern-secret",
      "execution_count": null,
      "outputs": []
    },
    {
      "cell_type": "code",
      "metadata": {
        "id": "pressed-berry"
      },
      "source": [
        "mysql2 = 'INSERT IGNORE INTO job( job_id,job_title, min_salary, max_salary) VALUES(%s,%s,%s,%s)'\n",
        "var2 = [\n",
        "    (1, 'Engineer',300,500),\n",
        "    (2, 'Statisticain' ,350, 560),\n",
        "    (3, 'Tutor',200,500 )\n",
        "]\n",
        "cursor.executemany(mysql2,var2)\n",
        "mydb.commit()"
      ],
      "id": "pressed-berry",
      "execution_count": null,
      "outputs": []
    },
    {
      "cell_type": "code",
      "metadata": {
        "id": "excessive-finder",
        "outputId": "6d368a51-07f0-44ac-cc4f-40992f77269c"
      },
      "source": [
        "cursor.execute('SELECT * FROM employee')\n",
        "employees = cursor.fetchall()\n",
        "for x in employees:\n",
        "    print(x)"
      ],
      "id": "excessive-finder",
      "execution_count": null,
      "outputs": [
        {
          "output_type": "stream",
          "text": [
            "(1, 'Annabel', 'Nganga', 'annenganga@hotmail.com', 72378665, '2020', 76798, 70000, 67878, 76867, 0, 0)\n",
            "(2, 'victor', 'brian', 'vbrian@yahoo.com', 87874857, '2019', 87989, 870000, 767679, 87877, 0, 0)\n"
          ],
          "name": "stdout"
        }
      ]
    },
    {
      "cell_type": "code",
      "metadata": {
        "id": "western-constraint",
        "outputId": "1dc14772-7a02-4c0f-8c85-75b71521a1af"
      },
      "source": [
        "cursor.execute('SELECT * FROM job')\n",
        "employees = cursor.fetchall()\n",
        "for y in employees:\n",
        "    print(y)"
      ],
      "id": "western-constraint",
      "execution_count": null,
      "outputs": [
        {
          "output_type": "stream",
          "text": [
            "(1, 'Engineer', 300, 500)\n",
            "(2, 'Statisticain', 350, 560)\n",
            "(3, 'Tutor', 200, 500)\n"
          ],
          "name": "stdout"
        }
      ]
    },
    {
      "cell_type": "code",
      "metadata": {
        "id": "opposed-beginning",
        "outputId": "41e352ea-d880-41ff-b640-1283709cab60"
      },
      "source": [
        "cursor.execute('SELECT * FROM depertments')\n",
        "employees = cursor.fetchall()\n",
        "for c in employees:\n",
        "    print(c)"
      ],
      "id": "opposed-beginning",
      "execution_count": null,
      "outputs": [
        {
          "output_type": "stream",
          "text": [
            "(1, 'Agri-business', '9787')\n",
            "(2, 'Mathematics', '3452')\n",
            "(3, 'Economics', '6745')\n"
          ],
          "name": "stdout"
        }
      ]
    },
    {
      "cell_type": "markdown",
      "metadata": {
        "id": "prompt-corporation"
      },
      "source": [
        "cursor.execute('''SELECT * FROM job \n",
        "INNER JOIN employee on job.job_id = employee.Employees_id\n",
        "  ''')\n",
        "x = cursor.fetchall()\n",
        "for c in x:\n",
        "    print(c)"
      ],
      "id": "prompt-corporation"
    },
    {
      "cell_type": "code",
      "metadata": {
        "id": "considerable-analysis"
      },
      "source": [
        "cursor.execute( ''' UPDATE employee SET F_name = 'Annabel', L_name = 'Nganga', \n",
        "Email = 'annenganga@hotmail.com' WHERE Employees_id = 1 ''')"
      ],
      "id": "considerable-analysis",
      "execution_count": null,
      "outputs": []
    },
    {
      "cell_type": "code",
      "metadata": {
        "id": "double-lover",
        "outputId": "37c9de92-8679-4a45-ba7d-ca6e9dbca84b"
      },
      "source": [
        "cursor.execute('''ALTER TABLE employee ADD (\n",
        "cell_number INT(10) NOT NULL, \n",
        "physical_address INT(10) NOT NULL)''')\n",
        "print('altertable')"
      ],
      "id": "double-lover",
      "execution_count": null,
      "outputs": [
        {
          "output_type": "stream",
          "text": [
            "altertable\n"
          ],
          "name": "stdout"
        }
      ]
    },
    {
      "cell_type": "code",
      "metadata": {
        "id": "green-response"
      },
      "source": [
        "cursor.execute('''DELETE FROM employee WHERE Employees_id = 3''')"
      ],
      "id": "green-response",
      "execution_count": null,
      "outputs": []
    },
    {
      "cell_type": "code",
      "metadata": {
        "id": "later-coffee"
      },
      "source": [
        ""
      ],
      "id": "later-coffee",
      "execution_count": null,
      "outputs": []
    }
  ]
}
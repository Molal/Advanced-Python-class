{
  "nbformat": 4,
  "nbformat_minor": 0,
  "metadata": {
    "colab": {
      "name": "Assignement.ipynb",
      "provenance": [],
      "collapsed_sections": [],
      "include_colab_link": true
    },
    "kernelspec": {
      "name": "python3",
      "display_name": "Python 3"
    },
    "language_info": {
      "name": "python"
    }
  },
  "cells": [
    {
      "cell_type": "markdown",
      "metadata": {
        "id": "view-in-github",
        "colab_type": "text"
      },
      "source": [
        "<a href=\"https://colab.research.google.com/github/Molal/Advanced-Python-class/blob/main/Assignement.ipynb\" target=\"_parent\"><img src=\"https://colab.research.google.com/assets/colab-badge.svg\" alt=\"Open In Colab\"/></a>"
      ]
    },
    {
      "cell_type": "code",
      "metadata": {
        "id": "MsgTvH32_fXH"
      },
      "source": [
        "#creating a database connection\n",
        "import sqlite3 as sql3\n",
        "\n",
        "connection = sql3.connect('MachineLearning.db')\n",
        "\n",
        "current = connection.cursor()\n"
      ],
      "execution_count": null,
      "outputs": []
    },
    {
      "cell_type": "code",
      "metadata": {
        "id": "AJiya727DW7T"
      },
      "source": [
        "#import os\n",
        "#os.getcwd()"
      ],
      "execution_count": null,
      "outputs": []
    },
    {
      "cell_type": "code",
      "metadata": {
        "id": "F37tuWLaDna5",
        "colab": {
          "base_uri": "https://localhost:8080/"
        },
        "outputId": "d28d4203-72fc-4b39-b218-a781ee9fd852"
      },
      "source": [
        "#creating the table and call it students \n",
        "current = connection.cursor() \n",
        "current.execute('''CREATE TABLE student\n",
        "                  (id real, Fname text,Lname text,continent text ,country text,city text,course text)''')"
      ],
      "execution_count": null,
      "outputs": [
        {
          "output_type": "execute_result",
          "data": {
            "text/plain": [
              "<sqlite3.Cursor at 0x7f41f169fa40>"
            ]
          },
          "metadata": {
            "tags": []
          },
          "execution_count": 6
        }
      ]
    },
    {
      "cell_type": "code",
      "metadata": {
        "colab": {
          "base_uri": "https://localhost:8080/"
        },
        "id": "npLzi1IaTfad",
        "outputId": "3fff0f11-727f-4fac-9bcc-6d425f3f072d"
      },
      "source": [
        "# create table two and call it Courses \n",
        "current = connection.cursor()\n",
        "current.execute('''CREATE TABLE courses\n",
        "                (id real, coursename text)''')"
      ],
      "execution_count": null,
      "outputs": [
        {
          "output_type": "execute_result",
          "data": {
            "text/plain": [
              "<sqlite3.Cursor at 0x7f41f169f650>"
            ]
          },
          "metadata": {
            "tags": []
          },
          "execution_count": 7
        }
      ]
    },
    {
      "cell_type": "code",
      "metadata": {
        "colab": {
          "base_uri": "https://localhost:8080/",
          "height": 105
        },
        "id": "eZMdl0R4UTNC",
        "outputId": "e5486b74-0605-4cf1-9d3c-9d889af4acef"
      },
      "source": [
        "# insert the field created above \n",
        "'''current.execute(\"INSERT INTO student VALUES \n",
        "                (1, 'Nicholas', 'Okello', 'Africa', 'Kenya', 'Nairobi', 'Advanced Python'),\n",
        "                (2, 'Tim', 'Kabugi', 'Africa', 'Kenya', 'Nairobi', 'Advanced Python'), \n",
        "                (3, 'John', 'Were', 'Africa', 'Kenya', 'Nairobi', 'Advanced Python'), \n",
        "                (4, 'Olal', 'Darick', 'Africa', 'Kenya', 'Nairobi', 'Advanced Python'),\n",
        "                (5, 'Esther', 'Wambui', 'Africa', 'Kenya', 'Nairobi', 'Machine Learning'), \n",
        "                (6, 'George', 'Ndede', 'N. America', 'USA', 'Dallas', 'Artificial Intelligence')\n",
        "                \");'''\n"
      ],
      "execution_count": null,
      "outputs": [
        {
          "output_type": "execute_result",
          "data": {
            "application/vnd.google.colaboratory.intrinsic+json": {
              "type": "string"
            },
            "text/plain": [
              "'current.execute(\"INSERT INTO student VALUES \\n                (1, \\'Nicholas\\', \\'Okello\\', \\'Africa\\', \\'Kenya\\', \\'Nairobi\\', \\'Advanced Python\\'),\\n                (2, \\'Tim\\', \\'Kabugi\\', \\'Africa\\', \\'Kenya\\', \\'Nairobi\\', \\'Advanced Python\\'), \\n                (3, \\'John\\', \\'Were\\', \\'Africa\\', \\'Kenya\\', \\'Nairobi\\', \\'Advanced Python\\'), \\n                (4, \\'Olal\\', \\'Darick\\', \\'Africa\\', \\'Kenya\\', \\'Nairobi\\', \\'Advanced Python\\'),\\n                (5, \\'Esther\\', \\'Wambui\\', \\'Africa\\', \\'Kenya\\', \\'Nairobi\\', \\'Machine Learning\\'), \\n                (6, \\'George\\', \\'Ndede\\', \\'N. America\\', \\'USA\\', \\'Dallas\\', \\'Artificial Intelligence\\')\\n                \");'"
            ]
          },
          "metadata": {
            "tags": []
          },
          "execution_count": 8
        }
      ]
    },
    {
      "cell_type": "code",
      "metadata": {
        "id": "McHM1_DRFXAZ",
        "colab": {
          "base_uri": "https://localhost:8080/",
          "height": 88
        },
        "outputId": "0bb9fad4-eb76-4a1b-fd8f-54febfda0ee4"
      },
      "source": [
        "'''current.execute(\"INSERT INTO courses VALUES\n",
        "                  (1, 'Advanced python'),\n",
        "                  (2, 'Machine Learning), \n",
        "                  (3, 'Introduction to Data Science'), \n",
        "                  (4, 'Artificial intelligence'), \n",
        "                  (5, 'Introduction to python'), \n",
        "                  (6, 'Data Management'),\n",
        "                  (7, 'Introduction to Linux administration'), \n",
        "                  (8, 'Introduction to AWS foundations'),\n",
        "                  (9, 'python system administration')\"); '''"
      ],
      "execution_count": null,
      "outputs": [
        {
          "output_type": "execute_result",
          "data": {
            "application/vnd.google.colaboratory.intrinsic+json": {
              "type": "string"
            },
            "text/plain": [
              "'current.execute(\"INSERT INTO courses VALUES\\n                  (1, \\'Advanced python\\'),\\n                  (2, \\'Machine Learning), \\n                  (3, \\'Introduction to Data Science\\'), \\n                  (4, \\'Artificial intelligence\\'), \\n                  (5, \\'Introduction to python\\'), \\n                  (6, \\'Data Management\\'),\\n                  (7, \\'Introduction to Linux administration\\'), \\n                  (8, \\'Introduction to AWS foundations\\'),\\n                  (9, \\'python system administration\\')\"); '"
            ]
          },
          "metadata": {
            "tags": []
          },
          "execution_count": 9
        }
      ]
    },
    {
      "cell_type": "code",
      "metadata": {
        "colab": {
          "base_uri": "https://localhost:8080/"
        },
        "id": "Nd-efaP6x06E",
        "outputId": "2c55461a-943f-4812-dc6e-245cc0f51773"
      },
      "source": [
        "#save the commited query\n",
        "connection.cursor()"
      ],
      "execution_count": null,
      "outputs": [
        {
          "output_type": "execute_result",
          "data": {
            "text/plain": [
              "<sqlite3.Cursor at 0x7f41f169f570>"
            ]
          },
          "metadata": {
            "tags": []
          },
          "execution_count": 11
        }
      ]
    },
    {
      "cell_type": "code",
      "metadata": {
        "id": "VinqTmYayUZW"
      },
      "source": [
        "#close the connection\n",
        "connection.close()"
      ],
      "execution_count": null,
      "outputs": []
    }
  ]
}
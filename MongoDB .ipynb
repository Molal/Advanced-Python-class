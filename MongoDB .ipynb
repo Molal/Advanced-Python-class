{
 "cells": [
  {
   "cell_type": "code",
   "execution_count": 1,
   "id": "finnish-chick",
   "metadata": {},
   "outputs": [],
   "source": [
    "#import MongoClient \n",
    "from pymongo import MongoClient \n",
    "from pprint import pprint\n",
    "from random import randint\n",
    "import pandas as pd"
   ]
  },
  {
   "cell_type": "code",
   "execution_count": 3,
   "id": "forty-cleveland",
   "metadata": {},
   "outputs": [],
   "source": [
    "#Step 1: Connect to MongoDB - Note: Change connection string as needed\n",
    "client = MongoClient(port=27017)\n",
    "db=client.Organizer "
   ]
  },
  {
   "cell_type": "code",
   "execution_count": 4,
   "id": "constant-charleston",
   "metadata": {},
   "outputs": [],
   "source": [
    "# step 2: create collections/ tables\n",
    "collection=db.Student\n",
    "collection=db.City\n",
    "collection=db.County\n",
    "collection=db.Courses"
   ]
  },
  {
   "cell_type": "code",
   "execution_count": 5,
   "id": "friendly-parish",
   "metadata": {
    "scrolled": true
   },
   "outputs": [
    {
     "name": "stdout",
     "output_type": "stream",
     "text": [
      "Records saved successfully\n"
     ]
    }
   ],
   "source": [
    "#step 3: Insert the records in the connections  \n",
    "db.Student.insert_one({\"First_Name\":\"Jacob\",\"Last_Name\":\"Odeny\",\"Email\":\"jacobodeny@gmail.com\",\"telphone\":\"0575174540\",\"Physical_Address\":\"Kano\",\"Gender\":\"Male\", \"City_Code\":\"1\", \"Country_Code\":\"1\", \"CourseID\":\"2\", \"StudentID\":\"1\"})\n",
    "db.Student.insert_one({\"First_Name\":\"Olal\",\"Last_Name\":\"Deric\",\"Email\":\"dolal@gmail.com\",\"telphone\":\"0705189701\",\"Physical_Address\":\"Kisumu\",\"Gender\":\"Male\", \"City_Code\":\"1\", \"Country_Code\":\"1\", \"CourseID\":\"3\", \"StudentID\":\"2\"})\n",
    "db.Student.insert_one({\"First_Name\":\"Steve\",\"Last_Name\":\"Misiga\",\"Email\":\"oredo@gmail.com\",\"telphone\":\"0705758502\",\"Physical_Address\":\"Nairobi\",\"Gender\":\"Male\", \"City_Code\":\"2\", \"Country_Code\":\"2\", \"CourseID\":\"2\", \"StudentID\":\"3\"})\n",
    "db.Student.insert_one({\"First_Name\":\"Esther\",\"Last_Name\":\"Mwangi\",\"Email\":\"ess@gmail.com\",\"telphone\":\"0806157590\",\"Physical_Address\":\"Muranga\",\"Gender\":\"Female\", \"City_Code\":\"3\", \"Country_Code\":\"3\", \"CourseID\":\"1\", \"StudentID\":\"4\"})\n",
    "db.Student.insert_one({\"First_Name\":\"Raila\",\"Last_Name\":\"Amolo\",\"Email\":\"rais@yahoo.com\",\"telphone\":\"0305158509\",\"Physical_Address\":\"Bondo\",\"Gender\":\"Male\", \"City_Code\":\"3\", \"Country_Code\":\"3\", \"CourseID\":\"4\", \"StudentID\":\"5\"})\n",
    "print(\"Records saved successfully\")"
   ]
  },
  {
   "cell_type": "code",
   "execution_count": 7,
   "id": "alternate-spyware",
   "metadata": {},
   "outputs": [
    {
     "name": "stdout",
     "output_type": "stream",
     "text": [
      "Records saved successfully\n"
     ]
    }
   ],
   "source": [
    "cities={\"City_Code\":\"1\", 'city_name':'Nairobi'}, {\"City_Code\":\"2\",'city_name':'Kisumu'}, {\"City_Code\":\"3\",'city_name':'Mombasa'}\n",
    "db.City.insert_many(cities)\n",
    "print('Records saved successfully')"
   ]
  },
  {
   "cell_type": "code",
   "execution_count": 9,
   "id": "growing-satisfaction",
   "metadata": {},
   "outputs": [
    {
     "name": "stdout",
     "output_type": "stream",
     "text": [
      "Records  saved successfully\n"
     ]
    }
   ],
   "source": [
    "counties={\"County_Code\":\"1\", 'County_Name':'Nairobi'}, {\"County_Code\":\"2\", 'County_Name':'Kisumu'}, {\"County_Code\":\"3\",'County_Name':'Mombasa'}\n",
    "db.County.insert_many(counties)\n",
    "print('Records  saved successfully')"
   ]
  },
  {
   "cell_type": "code",
   "execution_count": 10,
   "id": "armed-samuel",
   "metadata": {},
   "outputs": [
    {
     "name": "stdout",
     "output_type": "stream",
     "text": [
      "Records saved successfully\n"
     ]
    }
   ],
   "source": [
    "course={\"CourseID\":\"1\", 'Course_Name':'Statistics'}, {\"CourseID\":\"2\", 'Course_Name':'Medicine'}, {\"CourseID\":\"3\", 'Course_Name':'Law'}, {\"CourseID\":\"4\", 'Course_Name':'IT'}, {\"CourseID\":\"5\",'Course_Name':'BeCoM'}\n",
    "db.Courses.insert_many(course)\n",
    "print('Records saved successfully')"
   ]
  },
  {
   "cell_type": "code",
   "execution_count": 11,
   "id": "interstate-still",
   "metadata": {},
   "outputs": [
    {
     "data": {
      "text/html": [
       "<div>\n",
       "<style scoped>\n",
       "    .dataframe tbody tr th:only-of-type {\n",
       "        vertical-align: middle;\n",
       "    }\n",
       "\n",
       "    .dataframe tbody tr th {\n",
       "        vertical-align: top;\n",
       "    }\n",
       "\n",
       "    .dataframe thead th {\n",
       "        text-align: right;\n",
       "    }\n",
       "</style>\n",
       "<table border=\"1\" class=\"dataframe\">\n",
       "  <thead>\n",
       "    <tr style=\"text-align: right;\">\n",
       "      <th></th>\n",
       "      <th>First_Name</th>\n",
       "      <th>Last_Name</th>\n",
       "      <th>Email</th>\n",
       "      <th>telphone</th>\n",
       "      <th>Physical_Address</th>\n",
       "      <th>Gender</th>\n",
       "      <th>City_Code</th>\n",
       "      <th>Country_Code</th>\n",
       "      <th>CourseID</th>\n",
       "    </tr>\n",
       "    <tr>\n",
       "      <th>StudentID</th>\n",
       "      <th></th>\n",
       "      <th></th>\n",
       "      <th></th>\n",
       "      <th></th>\n",
       "      <th></th>\n",
       "      <th></th>\n",
       "      <th></th>\n",
       "      <th></th>\n",
       "      <th></th>\n",
       "    </tr>\n",
       "  </thead>\n",
       "  <tbody>\n",
       "    <tr>\n",
       "      <th>1</th>\n",
       "      <td>Jacob</td>\n",
       "      <td>Odeny</td>\n",
       "      <td>jacobodeny@gmail.com</td>\n",
       "      <td>0575174540</td>\n",
       "      <td>Kano</td>\n",
       "      <td>Male</td>\n",
       "      <td>1</td>\n",
       "      <td>1</td>\n",
       "      <td>2</td>\n",
       "    </tr>\n",
       "    <tr>\n",
       "      <th>2</th>\n",
       "      <td>Olal</td>\n",
       "      <td>Deric</td>\n",
       "      <td>dolal@gmail.com</td>\n",
       "      <td>0705189701</td>\n",
       "      <td>Kisumu</td>\n",
       "      <td>Male</td>\n",
       "      <td>1</td>\n",
       "      <td>1</td>\n",
       "      <td>3</td>\n",
       "    </tr>\n",
       "    <tr>\n",
       "      <th>3</th>\n",
       "      <td>Steve</td>\n",
       "      <td>Misiga</td>\n",
       "      <td>oredo@gmail.com</td>\n",
       "      <td>0705758502</td>\n",
       "      <td>Nairobi</td>\n",
       "      <td>Male</td>\n",
       "      <td>2</td>\n",
       "      <td>2</td>\n",
       "      <td>2</td>\n",
       "    </tr>\n",
       "    <tr>\n",
       "      <th>4</th>\n",
       "      <td>Esther</td>\n",
       "      <td>Mwangi</td>\n",
       "      <td>ess@gmail.com</td>\n",
       "      <td>0806157590</td>\n",
       "      <td>Muranga</td>\n",
       "      <td>Female</td>\n",
       "      <td>3</td>\n",
       "      <td>3</td>\n",
       "      <td>1</td>\n",
       "    </tr>\n",
       "    <tr>\n",
       "      <th>5</th>\n",
       "      <td>Raila</td>\n",
       "      <td>Amolo</td>\n",
       "      <td>rais@yahoo.com</td>\n",
       "      <td>0305158509</td>\n",
       "      <td>Bondo</td>\n",
       "      <td>Male</td>\n",
       "      <td>3</td>\n",
       "      <td>3</td>\n",
       "      <td>4</td>\n",
       "    </tr>\n",
       "  </tbody>\n",
       "</table>\n",
       "</div>"
      ],
      "text/plain": [
       "          First_Name Last_Name                 Email    telphone  \\\n",
       "StudentID                                                          \n",
       "1              Jacob     Odeny  jacobodeny@gmail.com  0575174540   \n",
       "2               Olal     Deric       dolal@gmail.com  0705189701   \n",
       "3              Steve    Misiga       oredo@gmail.com  0705758502   \n",
       "4             Esther    Mwangi         ess@gmail.com  0806157590   \n",
       "5              Raila     Amolo        rais@yahoo.com  0305158509   \n",
       "\n",
       "          Physical_Address  Gender City_Code Country_Code CourseID  \n",
       "StudentID                                                           \n",
       "1                     Kano    Male         1            1        2  \n",
       "2                   Kisumu    Male         1            1        3  \n",
       "3                  Nairobi    Male         2            2        2  \n",
       "4                  Muranga  Female         3            3        1  \n",
       "5                    Bondo    Male         3            3        4  "
      ]
     },
     "execution_count": 11,
     "metadata": {},
     "output_type": "execute_result"
    }
   ],
   "source": [
    "#steep 4: create for every  dataframe\n",
    "student_df=pd.DataFrame ([x for x in db.Student.find()])\n",
    "student_df.set_index('StudentID', inplace=True)\n",
    "student_df.drop('_id', inplace = True, axis=1)\n",
    "student_df"
   ]
  },
  {
   "cell_type": "code",
   "execution_count": 12,
   "id": "valued-antarctica",
   "metadata": {},
   "outputs": [
    {
     "data": {
      "text/html": [
       "<div>\n",
       "<style scoped>\n",
       "    .dataframe tbody tr th:only-of-type {\n",
       "        vertical-align: middle;\n",
       "    }\n",
       "\n",
       "    .dataframe tbody tr th {\n",
       "        vertical-align: top;\n",
       "    }\n",
       "\n",
       "    .dataframe thead th {\n",
       "        text-align: right;\n",
       "    }\n",
       "</style>\n",
       "<table border=\"1\" class=\"dataframe\">\n",
       "  <thead>\n",
       "    <tr style=\"text-align: right;\">\n",
       "      <th></th>\n",
       "      <th>city_name</th>\n",
       "    </tr>\n",
       "    <tr>\n",
       "      <th>City_Code</th>\n",
       "      <th></th>\n",
       "    </tr>\n",
       "  </thead>\n",
       "  <tbody>\n",
       "    <tr>\n",
       "      <th>1</th>\n",
       "      <td>Nairobi</td>\n",
       "    </tr>\n",
       "    <tr>\n",
       "      <th>2</th>\n",
       "      <td>Kisumu</td>\n",
       "    </tr>\n",
       "    <tr>\n",
       "      <th>3</th>\n",
       "      <td>Mombasa</td>\n",
       "    </tr>\n",
       "  </tbody>\n",
       "</table>\n",
       "</div>"
      ],
      "text/plain": [
       "          city_name\n",
       "City_Code          \n",
       "1           Nairobi\n",
       "2            Kisumu\n",
       "3           Mombasa"
      ]
     },
     "execution_count": 12,
     "metadata": {},
     "output_type": "execute_result"
    }
   ],
   "source": [
    "#create a City dataframe\n",
    "city=pd.DataFrame ([x for x in db.City.find()])\n",
    "city.set_index(\"City_Code\", inplace = True)\n",
    "city.drop('_id', inplace = True, axis=1)\n",
    "city"
   ]
  },
  {
   "cell_type": "code",
   "execution_count": 14,
   "id": "adequate-experience",
   "metadata": {},
   "outputs": [
    {
     "data": {
      "text/html": [
       "<div>\n",
       "<style scoped>\n",
       "    .dataframe tbody tr th:only-of-type {\n",
       "        vertical-align: middle;\n",
       "    }\n",
       "\n",
       "    .dataframe tbody tr th {\n",
       "        vertical-align: top;\n",
       "    }\n",
       "\n",
       "    .dataframe thead th {\n",
       "        text-align: right;\n",
       "    }\n",
       "</style>\n",
       "<table border=\"1\" class=\"dataframe\">\n",
       "  <thead>\n",
       "    <tr style=\"text-align: right;\">\n",
       "      <th></th>\n",
       "      <th>County_Name</th>\n",
       "    </tr>\n",
       "    <tr>\n",
       "      <th>County_Code</th>\n",
       "      <th></th>\n",
       "    </tr>\n",
       "  </thead>\n",
       "  <tbody>\n",
       "    <tr>\n",
       "      <th>1</th>\n",
       "      <td>Nairobi</td>\n",
       "    </tr>\n",
       "    <tr>\n",
       "      <th>2</th>\n",
       "      <td>Kisumu</td>\n",
       "    </tr>\n",
       "    <tr>\n",
       "      <th>3</th>\n",
       "      <td>Mombasa</td>\n",
       "    </tr>\n",
       "  </tbody>\n",
       "</table>\n",
       "</div>"
      ],
      "text/plain": [
       "            County_Name\n",
       "County_Code            \n",
       "1               Nairobi\n",
       "2                Kisumu\n",
       "3               Mombasa"
      ]
     },
     "execution_count": 14,
     "metadata": {},
     "output_type": "execute_result"
    }
   ],
   "source": [
    "#create the country dataframe\n",
    "county=pd.DataFrame ([x for x in db.County.find()])\n",
    "county.set_index(\"County_Code\", inplace= True)\n",
    "county.drop('_id', inplace= True, axis=1)\n",
    "county"
   ]
  },
  {
   "cell_type": "code",
   "execution_count": 15,
   "id": "underlying-district",
   "metadata": {},
   "outputs": [
    {
     "data": {
      "text/html": [
       "<div>\n",
       "<style scoped>\n",
       "    .dataframe tbody tr th:only-of-type {\n",
       "        vertical-align: middle;\n",
       "    }\n",
       "\n",
       "    .dataframe tbody tr th {\n",
       "        vertical-align: top;\n",
       "    }\n",
       "\n",
       "    .dataframe thead th {\n",
       "        text-align: right;\n",
       "    }\n",
       "</style>\n",
       "<table border=\"1\" class=\"dataframe\">\n",
       "  <thead>\n",
       "    <tr style=\"text-align: right;\">\n",
       "      <th></th>\n",
       "      <th>Course_Name</th>\n",
       "    </tr>\n",
       "    <tr>\n",
       "      <th>CourseID</th>\n",
       "      <th></th>\n",
       "    </tr>\n",
       "  </thead>\n",
       "  <tbody>\n",
       "    <tr>\n",
       "      <th>1</th>\n",
       "      <td>Statistics</td>\n",
       "    </tr>\n",
       "    <tr>\n",
       "      <th>2</th>\n",
       "      <td>Medicine</td>\n",
       "    </tr>\n",
       "    <tr>\n",
       "      <th>3</th>\n",
       "      <td>Law</td>\n",
       "    </tr>\n",
       "    <tr>\n",
       "      <th>4</th>\n",
       "      <td>IT</td>\n",
       "    </tr>\n",
       "    <tr>\n",
       "      <th>5</th>\n",
       "      <td>BeCoM</td>\n",
       "    </tr>\n",
       "  </tbody>\n",
       "</table>\n",
       "</div>"
      ],
      "text/plain": [
       "         Course_Name\n",
       "CourseID            \n",
       "1         Statistics\n",
       "2           Medicine\n",
       "3                Law\n",
       "4                 IT\n",
       "5              BeCoM"
      ]
     },
     "execution_count": 15,
     "metadata": {},
     "output_type": "execute_result"
    }
   ],
   "source": [
    "#Format the data retieved from the Courses collection using pandas\n",
    "coursesdf=pd.DataFrame ([x for x in db.Courses.find()])\n",
    "coursesdf.set_index(\"CourseID\", inplace=True)\n",
    "coursesdf.drop(\"_id\", inplace = True, axis=1)\n",
    "coursesdf"
   ]
  },
  {
   "cell_type": "code",
   "execution_count": 16,
   "id": "administrative-principle",
   "metadata": {},
   "outputs": [
    {
     "data": {
      "text/html": [
       "<div>\n",
       "<style scoped>\n",
       "    .dataframe tbody tr th:only-of-type {\n",
       "        vertical-align: middle;\n",
       "    }\n",
       "\n",
       "    .dataframe tbody tr th {\n",
       "        vertical-align: top;\n",
       "    }\n",
       "\n",
       "    .dataframe thead th {\n",
       "        text-align: right;\n",
       "    }\n",
       "</style>\n",
       "<table border=\"1\" class=\"dataframe\">\n",
       "  <thead>\n",
       "    <tr style=\"text-align: right;\">\n",
       "      <th></th>\n",
       "      <th>First_Name</th>\n",
       "      <th>Last_Name</th>\n",
       "      <th>Gender</th>\n",
       "      <th>Course_Name</th>\n",
       "    </tr>\n",
       "    <tr>\n",
       "      <th>StudentID</th>\n",
       "      <th></th>\n",
       "      <th></th>\n",
       "      <th></th>\n",
       "      <th></th>\n",
       "    </tr>\n",
       "  </thead>\n",
       "  <tbody>\n",
       "    <tr>\n",
       "      <th>1</th>\n",
       "      <td>Jacob</td>\n",
       "      <td>Odeny</td>\n",
       "      <td>Male</td>\n",
       "      <td>Medicine</td>\n",
       "    </tr>\n",
       "    <tr>\n",
       "      <th>2</th>\n",
       "      <td>Olal</td>\n",
       "      <td>Deric</td>\n",
       "      <td>Male</td>\n",
       "      <td>Law</td>\n",
       "    </tr>\n",
       "    <tr>\n",
       "      <th>3</th>\n",
       "      <td>Steve</td>\n",
       "      <td>Misiga</td>\n",
       "      <td>Male</td>\n",
       "      <td>Medicine</td>\n",
       "    </tr>\n",
       "    <tr>\n",
       "      <th>4</th>\n",
       "      <td>Esther</td>\n",
       "      <td>Mwangi</td>\n",
       "      <td>Female</td>\n",
       "      <td>Statistics</td>\n",
       "    </tr>\n",
       "    <tr>\n",
       "      <th>5</th>\n",
       "      <td>Raila</td>\n",
       "      <td>Amolo</td>\n",
       "      <td>Male</td>\n",
       "      <td>IT</td>\n",
       "    </tr>\n",
       "  </tbody>\n",
       "</table>\n",
       "</div>"
      ],
      "text/plain": [
       "          First_Name Last_Name  Gender Course_Name\n",
       "StudentID                                         \n",
       "1              Jacob     Odeny    Male    Medicine\n",
       "2               Olal     Deric    Male         Law\n",
       "3              Steve    Misiga    Male    Medicine\n",
       "4             Esther    Mwangi  Female  Statistics\n",
       "5              Raila     Amolo    Male          IT"
      ]
     },
     "execution_count": 16,
     "metadata": {},
     "output_type": "execute_result"
    }
   ],
   "source": [
    "#step 5: merge the sets \n",
    "\n",
    "join_student_courses= db.Student.aggregate(\n",
    "[\n",
    "    {\n",
    "        \"$lookup\":{\n",
    "            \"from\":\"Courses\",\n",
    "            \"localField\":\"CourseID\",\n",
    "            \"foreignField\":\"CourseID\",\n",
    "            \"as\":\"Student_Course\"\n",
    "        }\n",
    "    },\n",
    "    {\"$unwind\":\"$Student_Course\" },\n",
    "    {\n",
    "        \"$project\":{\n",
    "            \"_id\":0,\n",
    "            \"StudentID\":1,\n",
    "            \"First_Name\":2,\n",
    "            \"Last_Name\":3,\n",
    "            \"Gender\":4,\n",
    "            \"Course_Name\":\"$Student_Course.Course_Name\"\n",
    "            \n",
    "        }\n",
    "    }\n",
    "])\n",
    "    \n",
    "#present the data above in tabular format\n",
    "studentcoursesdf=pd.DataFrame (list(join_student_courses))\n",
    "#index\n",
    "studentcoursesdf.set_index(\"StudentID\", inplace= True)\n",
    "#table\n",
    "studentcoursesdf"
   ]
  },
  {
   "cell_type": "code",
   "execution_count": null,
   "id": "criminal-wisdom",
   "metadata": {},
   "outputs": [],
   "source": []
  }
 ],
 "metadata": {
  "kernelspec": {
   "display_name": "Python 3",
   "language": "python",
   "name": "python3"
  },
  "language_info": {
   "codemirror_mode": {
    "name": "ipython",
    "version": 3
   },
   "file_extension": ".py",
   "mimetype": "text/x-python",
   "name": "python",
   "nbconvert_exporter": "python",
   "pygments_lexer": "ipython3",
   "version": "3.9.2"
  }
 },
 "nbformat": 4,
 "nbformat_minor": 5
}
